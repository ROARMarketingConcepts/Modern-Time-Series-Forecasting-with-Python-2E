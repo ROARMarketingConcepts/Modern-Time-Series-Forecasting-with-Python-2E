{
 "cells": [
  {
   "cell_type": "code",
   "execution_count": 1,
   "id": "77ef5d4e-43b2-4a5f-bdff-26903a67761b",
   "metadata": {},
   "outputs": [
    {
     "name": "stdout",
     "output_type": "stream",
     "text": [
      "/Users/woodzsan/Desktop/Machine Learning and Data Analysis/Modern-Time-Series-Forecasting-with-Python-2E\n"
     ]
    },
    {
     "name": "stderr",
     "output_type": "stream",
     "text": [
      "/Users/woodzsan/Desktop/Machine Learning and Data Analysis/Modern-Time-Series-Forecasting-with-Python-2E/mtsf-venv/lib/python3.13/site-packages/IPython/core/magics/osm.py:417: UserWarning: This is now an optional IPython functionality, setting dhist requires you to install the `pickleshare` library.\n",
      "  self.shell.db['dhist'] = compress_dhist(dhist)[-100:]\n"
     ]
    }
   ],
   "source": [
    "%cd ../.."
   ]
  },
  {
   "cell_type": "code",
   "execution_count": 2,
   "id": "9a52ad4f-9f14-4ae9-bd3a-754d89da0dd7",
   "metadata": {},
   "outputs": [],
   "source": [
    "import numpy as np\n",
    "import matplotlib.pyplot as plt\n",
    "import seaborn as sns\n",
    "\n",
    "import plotly.express as px\n",
    "import os\n",
    "import plotly.io as pio\n",
    "pio.templates.default = \"plotly_white\"\n",
    "import pandas as pd\n",
    "from pathlib import Path\n",
    "from tqdm.auto import tqdm\n",
    "from IPython.display import display, HTML\n",
    "import missingno as msno\n",
    "import statsmodels.api as sm\n",
    "from statsmodels.tsa.seasonal import MSTL , DecomposeResult\n",
    "\n",
    "import requests\n",
    "from io import StringIO\n",
    "# %load_ext autoreload\n",
    "# %autoreload 2\n",
    "np.random.seed()\n",
    "tqdm.pandas()"
   ]
  },
  {
   "cell_type": "code",
   "execution_count": 3,
   "id": "1355faa3-006b-4a09-a61c-4f1a3c5934a4",
   "metadata": {},
   "outputs": [],
   "source": [
    "os.makedirs(\"imgs/chapter_3\", exist_ok=True)\n",
    "preprocessed = Path(\"data/london_smart_meters/preprocessed\")\n",
    "assert preprocessed.is_dir(), \"You have to run 02 - Preprocessing London Smart Meter Dataset.ipynb in Chapter02 before running this notebook\""
   ]
  },
  {
   "cell_type": "code",
   "execution_count": 4,
   "id": "09c32c70-d7d9-4eba-baa3-6b59629f5911",
   "metadata": {},
   "outputs": [],
   "source": [
    "from itertools import cycle\n",
    "\n",
    "\n",
    "def format_plot(fig, legends = None, xlabel=\"Time\", ylabel=\"Value\", font_size=15, title_font_size=20):\n",
    "    if legends:\n",
    "        names = cycle(legends)\n",
    "        fig.for_each_trace(lambda t:  t.update(name = next(names)))\n",
    "    fig.update_layout(\n",
    "            autosize=False,\n",
    "            width=900,\n",
    "            height=500,\n",
    "            title={\n",
    "            'x':0.5,\n",
    "            'xanchor': 'center',\n",
    "            'yanchor': 'top'},\n",
    "            titlefont={\n",
    "                \"size\": 20\n",
    "            },\n",
    "            legend_title = None,\n",
    "            legend=dict(\n",
    "                font=dict(size=font_size),\n",
    "                orientation=\"h\",\n",
    "                yanchor=\"bottom\",\n",
    "                y=0.98,\n",
    "                xanchor=\"right\",\n",
    "                x=1,\n",
    "            ),\n",
    "            yaxis=dict(\n",
    "                title_text=ylabel,\n",
    "                titlefont=dict(size=font_size),\n",
    "                tickfont=dict(size=font_size),\n",
    "            ),\n",
    "            xaxis=dict(\n",
    "                title_text=xlabel,\n",
    "                titlefont=dict(size=font_size),\n",
    "                tickfont=dict(size=font_size),\n",
    "            )\n",
    "        )\n",
    "    return fig"
   ]
  },
  {
   "cell_type": "markdown",
   "id": "df4d98b3-d1e1-400a-814a-ecb287deaffb",
   "metadata": {},
   "source": [
    "# Generate Charts for Trend and Seasonality"
   ]
  },
  {
   "cell_type": "code",
   "execution_count": 5,
   "id": "1cd63b64-0837-4530-8be3-eba8fd018513",
   "metadata": {},
   "outputs": [
    {
     "ename": "KeyError",
     "evalue": "\"None of [Index(['Year', 'Revenue (US$ m)'], dtype='object')] are in the [columns]\"",
     "output_type": "error",
     "traceback": [
      "\u001b[0;31m---------------------------------------------------------------------------\u001b[0m",
      "\u001b[0;31mKeyError\u001b[0m                                  Traceback (most recent call last)",
      "Cell \u001b[0;32mIn[5], line 10\u001b[0m\n\u001b[1;32m      7\u001b[0m website \u001b[38;5;241m=\u001b[39m r\u001b[38;5;241m.\u001b[39mtext\n\u001b[1;32m      9\u001b[0m \u001b[38;5;66;03m# Wrap the HTML content in a StringIO object\u001b[39;00m\n\u001b[0;32m---> 10\u001b[0m tesla_revenue \u001b[38;5;241m=\u001b[39m \u001b[43mpd\u001b[49m\u001b[38;5;241;43m.\u001b[39;49m\u001b[43mread_html\u001b[49m\u001b[43m(\u001b[49m\u001b[43mStringIO\u001b[49m\u001b[43m(\u001b[49m\u001b[43mwebsite\u001b[49m\u001b[43m)\u001b[49m\u001b[43m,\u001b[49m\u001b[43m \u001b[49m\u001b[43mencoding\u001b[49m\u001b[38;5;241;43m=\u001b[39;49m\u001b[38;5;124;43m\"\u001b[39;49m\u001b[38;5;124;43mUTF-8\u001b[39;49m\u001b[38;5;124;43m\"\u001b[39;49m\u001b[43m)\u001b[49m\u001b[43m[\u001b[49m\u001b[38;5;241;43m7\u001b[39;49m\u001b[43m]\u001b[49m\u001b[43m[\u001b[49m\u001b[43m[\u001b[49m\u001b[38;5;124;43m'\u001b[39;49m\u001b[38;5;124;43mYear\u001b[39;49m\u001b[38;5;124;43m'\u001b[39;49m\u001b[43m,\u001b[49m\u001b[43m \u001b[49m\u001b[38;5;124;43m\"\u001b[39;49m\u001b[38;5;124;43mRevenue (US$ m)\u001b[39;49m\u001b[38;5;124;43m\"\u001b[39;49m\u001b[43m]\u001b[49m\u001b[43m]\u001b[49m\n\u001b[1;32m     12\u001b[0m tesla_revenue \u001b[38;5;241m=\u001b[39m tesla_revenue[tesla_revenue\u001b[38;5;241m.\u001b[39mYear\u001b[38;5;241m>\u001b[39m\u001b[38;5;241m=\u001b[39m\u001b[38;5;241m2010\u001b[39m]\n\u001b[1;32m     13\u001b[0m fig \u001b[38;5;241m=\u001b[39m px\u001b[38;5;241m.\u001b[39mline(tesla_revenue, x\u001b[38;5;241m=\u001b[39m\u001b[38;5;124m\"\u001b[39m\u001b[38;5;124mYear\u001b[39m\u001b[38;5;124m\"\u001b[39m, y\u001b[38;5;241m=\u001b[39m\u001b[38;5;124m\"\u001b[39m\u001b[38;5;124mRevenue (US$ m)\u001b[39m\u001b[38;5;124m\"\u001b[39m, title\u001b[38;5;241m=\u001b[39m\u001b[38;5;124m\"\u001b[39m\u001b[38;5;124mTesla\u001b[39m\u001b[38;5;124m'\u001b[39m\u001b[38;5;124ms Revenue in M USDs\u001b[39m\u001b[38;5;124m\"\u001b[39m)\n",
      "File \u001b[0;32m~/Desktop/Machine Learning and Data Analysis/Modern-Time-Series-Forecasting-with-Python-2E/mtsf-venv/lib/python3.13/site-packages/pandas/core/frame.py:4108\u001b[0m, in \u001b[0;36mDataFrame.__getitem__\u001b[0;34m(self, key)\u001b[0m\n\u001b[1;32m   4106\u001b[0m     \u001b[38;5;28;01mif\u001b[39;00m is_iterator(key):\n\u001b[1;32m   4107\u001b[0m         key \u001b[38;5;241m=\u001b[39m \u001b[38;5;28mlist\u001b[39m(key)\n\u001b[0;32m-> 4108\u001b[0m     indexer \u001b[38;5;241m=\u001b[39m \u001b[38;5;28;43mself\u001b[39;49m\u001b[38;5;241;43m.\u001b[39;49m\u001b[43mcolumns\u001b[49m\u001b[38;5;241;43m.\u001b[39;49m\u001b[43m_get_indexer_strict\u001b[49m\u001b[43m(\u001b[49m\u001b[43mkey\u001b[49m\u001b[43m,\u001b[49m\u001b[43m \u001b[49m\u001b[38;5;124;43m\"\u001b[39;49m\u001b[38;5;124;43mcolumns\u001b[39;49m\u001b[38;5;124;43m\"\u001b[39;49m\u001b[43m)\u001b[49m[\u001b[38;5;241m1\u001b[39m]\n\u001b[1;32m   4110\u001b[0m \u001b[38;5;66;03m# take() does not accept boolean indexers\u001b[39;00m\n\u001b[1;32m   4111\u001b[0m \u001b[38;5;28;01mif\u001b[39;00m \u001b[38;5;28mgetattr\u001b[39m(indexer, \u001b[38;5;124m\"\u001b[39m\u001b[38;5;124mdtype\u001b[39m\u001b[38;5;124m\"\u001b[39m, \u001b[38;5;28;01mNone\u001b[39;00m) \u001b[38;5;241m==\u001b[39m \u001b[38;5;28mbool\u001b[39m:\n",
      "File \u001b[0;32m~/Desktop/Machine Learning and Data Analysis/Modern-Time-Series-Forecasting-with-Python-2E/mtsf-venv/lib/python3.13/site-packages/pandas/core/indexes/base.py:6200\u001b[0m, in \u001b[0;36mIndex._get_indexer_strict\u001b[0;34m(self, key, axis_name)\u001b[0m\n\u001b[1;32m   6197\u001b[0m \u001b[38;5;28;01melse\u001b[39;00m:\n\u001b[1;32m   6198\u001b[0m     keyarr, indexer, new_indexer \u001b[38;5;241m=\u001b[39m \u001b[38;5;28mself\u001b[39m\u001b[38;5;241m.\u001b[39m_reindex_non_unique(keyarr)\n\u001b[0;32m-> 6200\u001b[0m \u001b[38;5;28;43mself\u001b[39;49m\u001b[38;5;241;43m.\u001b[39;49m\u001b[43m_raise_if_missing\u001b[49m\u001b[43m(\u001b[49m\u001b[43mkeyarr\u001b[49m\u001b[43m,\u001b[49m\u001b[43m \u001b[49m\u001b[43mindexer\u001b[49m\u001b[43m,\u001b[49m\u001b[43m \u001b[49m\u001b[43maxis_name\u001b[49m\u001b[43m)\u001b[49m\n\u001b[1;32m   6202\u001b[0m keyarr \u001b[38;5;241m=\u001b[39m \u001b[38;5;28mself\u001b[39m\u001b[38;5;241m.\u001b[39mtake(indexer)\n\u001b[1;32m   6203\u001b[0m \u001b[38;5;28;01mif\u001b[39;00m \u001b[38;5;28misinstance\u001b[39m(key, Index):\n\u001b[1;32m   6204\u001b[0m     \u001b[38;5;66;03m# GH 42790 - Preserve name from an Index\u001b[39;00m\n",
      "File \u001b[0;32m~/Desktop/Machine Learning and Data Analysis/Modern-Time-Series-Forecasting-with-Python-2E/mtsf-venv/lib/python3.13/site-packages/pandas/core/indexes/base.py:6249\u001b[0m, in \u001b[0;36mIndex._raise_if_missing\u001b[0;34m(self, key, indexer, axis_name)\u001b[0m\n\u001b[1;32m   6247\u001b[0m \u001b[38;5;28;01mif\u001b[39;00m nmissing:\n\u001b[1;32m   6248\u001b[0m     \u001b[38;5;28;01mif\u001b[39;00m nmissing \u001b[38;5;241m==\u001b[39m \u001b[38;5;28mlen\u001b[39m(indexer):\n\u001b[0;32m-> 6249\u001b[0m         \u001b[38;5;28;01mraise\u001b[39;00m \u001b[38;5;167;01mKeyError\u001b[39;00m(\u001b[38;5;124mf\u001b[39m\u001b[38;5;124m\"\u001b[39m\u001b[38;5;124mNone of [\u001b[39m\u001b[38;5;132;01m{\u001b[39;00mkey\u001b[38;5;132;01m}\u001b[39;00m\u001b[38;5;124m] are in the [\u001b[39m\u001b[38;5;132;01m{\u001b[39;00maxis_name\u001b[38;5;132;01m}\u001b[39;00m\u001b[38;5;124m]\u001b[39m\u001b[38;5;124m\"\u001b[39m)\n\u001b[1;32m   6251\u001b[0m     not_found \u001b[38;5;241m=\u001b[39m \u001b[38;5;28mlist\u001b[39m(ensure_index(key)[missing_mask\u001b[38;5;241m.\u001b[39mnonzero()[\u001b[38;5;241m0\u001b[39m]]\u001b[38;5;241m.\u001b[39munique())\n\u001b[1;32m   6252\u001b[0m     \u001b[38;5;28;01mraise\u001b[39;00m \u001b[38;5;167;01mKeyError\u001b[39;00m(\u001b[38;5;124mf\u001b[39m\u001b[38;5;124m\"\u001b[39m\u001b[38;5;132;01m{\u001b[39;00mnot_found\u001b[38;5;132;01m}\u001b[39;00m\u001b[38;5;124m not in index\u001b[39m\u001b[38;5;124m\"\u001b[39m)\n",
      "\u001b[0;31mKeyError\u001b[0m: \"None of [Index(['Year', 'Revenue (US$ m)'], dtype='object')] are in the [columns]\""
     ]
    }
   ],
   "source": [
    "# Creating a session and disabling SSL verification (be cautious with this approach due to security concerns)\n",
    "session = requests.Session()\n",
    "#session.verify = False\n",
    "\n",
    "url = \"https://en.wikipedia.org/wiki/Tesla,_Inc.\"\n",
    "r = session.get(url)  # Use the session object here for the request\n",
    "website = r.text\n",
    "\n",
    "# Wrap the HTML content in a StringIO object\n",
    "tesla_revenue = pd.read_html(StringIO(website), encoding=\"UTF-8\")[7][['Year', \"Revenue (US$ m)\"]]\n",
    "\n",
    "tesla_revenue = tesla_revenue[tesla_revenue.Year>=2010]\n",
    "fig = px.line(tesla_revenue, x=\"Year\", y=\"Revenue (US$ m)\", title=\"Tesla's Revenue in M USDs\")\n",
    "fig = format_plot(fig, xlabel=\"Year\")\n",
    "fig.write_image(\"imgs/chapter_3/tesla_revenue.png\")\n",
    "fig.show(renderer=\"svg\")"
   ]
  },
  {
   "cell_type": "code",
   "execution_count": 6,
   "id": "28bebad5-1a30-4007-a189-c08746a1b184",
   "metadata": {
    "tags": []
   },
   "outputs": [
    {
     "ename": "ValueError",
     "evalue": "Failed to start Kaleido subprocess. Error stream:\n\n/Users/woodzsan/Desktop/Machine Learning and Data Analysis/Modern-Time-Series-Forecasting-with-Python-2E/mtsf-venv/lib/python3.13/site-packages/kaleido/executable/kaleido: line 4: cd: /Users/woodzsan/Desktop/Machine: No such file or directory\n/Users/woodzsan/Desktop/Machine Learning and Data Analysis/Modern-Time-Series-Forecasting-with-Python-2E/mtsf-venv/lib/python3.13/site-packages/kaleido/executable/kaleido: line 5: ./bin/kaleido: No such file or directory\n",
     "output_type": "error",
     "traceback": [
      "\u001b[0;31m---------------------------------------------------------------------------\u001b[0m",
      "\u001b[0;31mValueError\u001b[0m                                Traceback (most recent call last)",
      "Cell \u001b[0;32mIn[6], line 4\u001b[0m\n\u001b[1;32m      2\u001b[0m fig\u001b[38;5;241m=\u001b[39mpx\u001b[38;5;241m.\u001b[39mline(df, x\u001b[38;5;241m=\u001b[39m\u001b[38;5;124m\"\u001b[39m\u001b[38;5;124mYEAR\u001b[39m\u001b[38;5;124m\"\u001b[39m, y\u001b[38;5;241m=\u001b[39m\u001b[38;5;124m\"\u001b[39m\u001b[38;5;124mSUNACTIVITY\u001b[39m\u001b[38;5;124m\"\u001b[39m, title\u001b[38;5;241m=\u001b[39m\u001b[38;5;124m\"\u001b[39m\u001b[38;5;124m# of Sunspots Years 1749 - 2017\u001b[39m\u001b[38;5;124m\"\u001b[39m)\n\u001b[1;32m      3\u001b[0m fig \u001b[38;5;241m=\u001b[39m format_plot(fig, xlabel\u001b[38;5;241m=\u001b[39m\u001b[38;5;124m\"\u001b[39m\u001b[38;5;124mYear\u001b[39m\u001b[38;5;124m\"\u001b[39m)\n\u001b[0;32m----> 4\u001b[0m \u001b[43mfig\u001b[49m\u001b[38;5;241;43m.\u001b[39;49m\u001b[43mwrite_image\u001b[49m\u001b[43m(\u001b[49m\u001b[38;5;124;43m\"\u001b[39;49m\u001b[38;5;124;43mimgs/chapter_3/sunspots.png\u001b[39;49m\u001b[38;5;124;43m\"\u001b[39;49m\u001b[43m)\u001b[49m\n\u001b[1;32m      5\u001b[0m fig\u001b[38;5;241m.\u001b[39mshow(renderer\u001b[38;5;241m=\u001b[39m\u001b[38;5;124m\"\u001b[39m\u001b[38;5;124msvg\u001b[39m\u001b[38;5;124m\"\u001b[39m)\n",
      "File \u001b[0;32m~/Desktop/Machine Learning and Data Analysis/Modern-Time-Series-Forecasting-with-Python-2E/mtsf-venv/lib/python3.13/site-packages/plotly/basedatatypes.py:3835\u001b[0m, in \u001b[0;36mBaseFigure.write_image\u001b[0;34m(self, *args, **kwargs)\u001b[0m\n\u001b[1;32m   3775\u001b[0m \u001b[38;5;250m\u001b[39m\u001b[38;5;124;03m\"\"\"\u001b[39;00m\n\u001b[1;32m   3776\u001b[0m \u001b[38;5;124;03mConvert a figure to a static image and write it to a file or writeable\u001b[39;00m\n\u001b[1;32m   3777\u001b[0m \u001b[38;5;124;03mobject\u001b[39;00m\n\u001b[0;32m   (...)\u001b[0m\n\u001b[1;32m   3831\u001b[0m \u001b[38;5;124;03mNone\u001b[39;00m\n\u001b[1;32m   3832\u001b[0m \u001b[38;5;124;03m\"\"\"\u001b[39;00m\n\u001b[1;32m   3833\u001b[0m \u001b[38;5;28;01mimport\u001b[39;00m\u001b[38;5;250m \u001b[39m\u001b[38;5;21;01mplotly\u001b[39;00m\u001b[38;5;21;01m.\u001b[39;00m\u001b[38;5;21;01mio\u001b[39;00m\u001b[38;5;250m \u001b[39m\u001b[38;5;28;01mas\u001b[39;00m\u001b[38;5;250m \u001b[39m\u001b[38;5;21;01mpio\u001b[39;00m\n\u001b[0;32m-> 3835\u001b[0m \u001b[38;5;28;01mreturn\u001b[39;00m \u001b[43mpio\u001b[49m\u001b[38;5;241;43m.\u001b[39;49m\u001b[43mwrite_image\u001b[49m\u001b[43m(\u001b[49m\u001b[38;5;28;43mself\u001b[39;49m\u001b[43m,\u001b[49m\u001b[43m \u001b[49m\u001b[38;5;241;43m*\u001b[39;49m\u001b[43margs\u001b[49m\u001b[43m,\u001b[49m\u001b[43m \u001b[49m\u001b[38;5;241;43m*\u001b[39;49m\u001b[38;5;241;43m*\u001b[39;49m\u001b[43mkwargs\u001b[49m\u001b[43m)\u001b[49m\n",
      "File \u001b[0;32m~/Desktop/Machine Learning and Data Analysis/Modern-Time-Series-Forecasting-with-Python-2E/mtsf-venv/lib/python3.13/site-packages/plotly/io/_kaleido.py:266\u001b[0m, in \u001b[0;36mwrite_image\u001b[0;34m(fig, file, format, scale, width, height, validate, engine)\u001b[0m\n\u001b[1;32m    250\u001b[0m             \u001b[38;5;28;01mraise\u001b[39;00m \u001b[38;5;167;01mValueError\u001b[39;00m(\n\u001b[1;32m    251\u001b[0m \u001b[38;5;250m                \u001b[39m\u001b[38;5;124;03m\"\"\"\u001b[39;00m\n\u001b[1;32m    252\u001b[0m \u001b[38;5;124;03mCannot infer image type from output path '{file}'.\u001b[39;00m\n\u001b[0;32m   (...)\u001b[0m\n\u001b[1;32m    260\u001b[0m                 )\n\u001b[1;32m    261\u001b[0m             )\n\u001b[1;32m    263\u001b[0m     \u001b[38;5;66;03m# Request image\u001b[39;00m\n\u001b[1;32m    264\u001b[0m     \u001b[38;5;66;03m# -------------\u001b[39;00m\n\u001b[1;32m    265\u001b[0m     \u001b[38;5;66;03m# Do this first so we don't create a file if image conversion fails\u001b[39;00m\n\u001b[0;32m--> 266\u001b[0m     img_data \u001b[38;5;241m=\u001b[39m \u001b[43mto_image\u001b[49m\u001b[43m(\u001b[49m\n\u001b[1;32m    267\u001b[0m \u001b[43m        \u001b[49m\u001b[43mfig\u001b[49m\u001b[43m,\u001b[49m\n\u001b[1;32m    268\u001b[0m \u001b[43m        \u001b[49m\u001b[38;5;28;43mformat\u001b[39;49m\u001b[38;5;241;43m=\u001b[39;49m\u001b[38;5;28;43mformat\u001b[39;49m\u001b[43m,\u001b[49m\n\u001b[1;32m    269\u001b[0m \u001b[43m        \u001b[49m\u001b[43mscale\u001b[49m\u001b[38;5;241;43m=\u001b[39;49m\u001b[43mscale\u001b[49m\u001b[43m,\u001b[49m\n\u001b[1;32m    270\u001b[0m \u001b[43m        \u001b[49m\u001b[43mwidth\u001b[49m\u001b[38;5;241;43m=\u001b[39;49m\u001b[43mwidth\u001b[49m\u001b[43m,\u001b[49m\n\u001b[1;32m    271\u001b[0m \u001b[43m        \u001b[49m\u001b[43mheight\u001b[49m\u001b[38;5;241;43m=\u001b[39;49m\u001b[43mheight\u001b[49m\u001b[43m,\u001b[49m\n\u001b[1;32m    272\u001b[0m \u001b[43m        \u001b[49m\u001b[43mvalidate\u001b[49m\u001b[38;5;241;43m=\u001b[39;49m\u001b[43mvalidate\u001b[49m\u001b[43m,\u001b[49m\n\u001b[1;32m    273\u001b[0m \u001b[43m        \u001b[49m\u001b[43mengine\u001b[49m\u001b[38;5;241;43m=\u001b[39;49m\u001b[43mengine\u001b[49m\u001b[43m,\u001b[49m\n\u001b[1;32m    274\u001b[0m \u001b[43m    \u001b[49m\u001b[43m)\u001b[49m\n\u001b[1;32m    276\u001b[0m     \u001b[38;5;66;03m# Open file\u001b[39;00m\n\u001b[1;32m    277\u001b[0m     \u001b[38;5;66;03m# ---------\u001b[39;00m\n\u001b[1;32m    278\u001b[0m     \u001b[38;5;28;01mif\u001b[39;00m path \u001b[38;5;129;01mis\u001b[39;00m \u001b[38;5;28;01mNone\u001b[39;00m:\n\u001b[1;32m    279\u001b[0m         \u001b[38;5;66;03m# We previously failed to make sense of `file` as a pathlib object.\u001b[39;00m\n\u001b[1;32m    280\u001b[0m         \u001b[38;5;66;03m# Attempt to write to `file` as an open file descriptor.\u001b[39;00m\n",
      "File \u001b[0;32m~/Desktop/Machine Learning and Data Analysis/Modern-Time-Series-Forecasting-with-Python-2E/mtsf-venv/lib/python3.13/site-packages/plotly/io/_kaleido.py:143\u001b[0m, in \u001b[0;36mto_image\u001b[0;34m(fig, format, width, height, scale, validate, engine)\u001b[0m\n\u001b[1;32m    140\u001b[0m \u001b[38;5;66;03m# Validate figure\u001b[39;00m\n\u001b[1;32m    141\u001b[0m \u001b[38;5;66;03m# ---------------\u001b[39;00m\n\u001b[1;32m    142\u001b[0m fig_dict \u001b[38;5;241m=\u001b[39m validate_coerce_fig_to_dict(fig, validate)\n\u001b[0;32m--> 143\u001b[0m img_bytes \u001b[38;5;241m=\u001b[39m \u001b[43mscope\u001b[49m\u001b[38;5;241;43m.\u001b[39;49m\u001b[43mtransform\u001b[49m\u001b[43m(\u001b[49m\n\u001b[1;32m    144\u001b[0m \u001b[43m    \u001b[49m\u001b[43mfig_dict\u001b[49m\u001b[43m,\u001b[49m\u001b[43m \u001b[49m\u001b[38;5;28;43mformat\u001b[39;49m\u001b[38;5;241;43m=\u001b[39;49m\u001b[38;5;28;43mformat\u001b[39;49m\u001b[43m,\u001b[49m\u001b[43m \u001b[49m\u001b[43mwidth\u001b[49m\u001b[38;5;241;43m=\u001b[39;49m\u001b[43mwidth\u001b[49m\u001b[43m,\u001b[49m\u001b[43m \u001b[49m\u001b[43mheight\u001b[49m\u001b[38;5;241;43m=\u001b[39;49m\u001b[43mheight\u001b[49m\u001b[43m,\u001b[49m\u001b[43m \u001b[49m\u001b[43mscale\u001b[49m\u001b[38;5;241;43m=\u001b[39;49m\u001b[43mscale\u001b[49m\n\u001b[1;32m    145\u001b[0m \u001b[43m\u001b[49m\u001b[43m)\u001b[49m\n\u001b[1;32m    147\u001b[0m \u001b[38;5;28;01mreturn\u001b[39;00m img_bytes\n",
      "File \u001b[0;32m~/Desktop/Machine Learning and Data Analysis/Modern-Time-Series-Forecasting-with-Python-2E/mtsf-venv/lib/python3.13/site-packages/kaleido/scopes/plotly.py:153\u001b[0m, in \u001b[0;36mPlotlyScope.transform\u001b[0;34m(self, figure, format, width, height, scale)\u001b[0m\n\u001b[1;32m    142\u001b[0m     \u001b[38;5;28;01mraise\u001b[39;00m \u001b[38;5;167;01mValueError\u001b[39;00m(\n\u001b[1;32m    143\u001b[0m         \u001b[38;5;124m\"\u001b[39m\u001b[38;5;124mInvalid format \u001b[39m\u001b[38;5;124m'\u001b[39m\u001b[38;5;132;01m{original_format}\u001b[39;00m\u001b[38;5;124m'\u001b[39m\u001b[38;5;124m.\u001b[39m\u001b[38;5;130;01m\\n\u001b[39;00m\u001b[38;5;124m\"\u001b[39m\n\u001b[1;32m    144\u001b[0m         \u001b[38;5;124m\"\u001b[39m\u001b[38;5;124m    Supported formats: \u001b[39m\u001b[38;5;132;01m{supported_formats_str}\u001b[39;00m\u001b[38;5;124m\"\u001b[39m\n\u001b[0;32m   (...)\u001b[0m\n\u001b[1;32m    148\u001b[0m         )\n\u001b[1;32m    149\u001b[0m     )\n\u001b[1;32m    151\u001b[0m \u001b[38;5;66;03m# Transform in using _perform_transform rather than superclass so we can access the full\u001b[39;00m\n\u001b[1;32m    152\u001b[0m \u001b[38;5;66;03m# response dict, including error codes.\u001b[39;00m\n\u001b[0;32m--> 153\u001b[0m response \u001b[38;5;241m=\u001b[39m \u001b[38;5;28;43mself\u001b[39;49m\u001b[38;5;241;43m.\u001b[39;49m\u001b[43m_perform_transform\u001b[49m\u001b[43m(\u001b[49m\n\u001b[1;32m    154\u001b[0m \u001b[43m    \u001b[49m\u001b[43mfigure\u001b[49m\u001b[43m,\u001b[49m\u001b[43m \u001b[49m\u001b[38;5;28;43mformat\u001b[39;49m\u001b[38;5;241;43m=\u001b[39;49m\u001b[38;5;28;43mformat\u001b[39;49m\u001b[43m,\u001b[49m\u001b[43m \u001b[49m\u001b[43mwidth\u001b[49m\u001b[38;5;241;43m=\u001b[39;49m\u001b[43mwidth\u001b[49m\u001b[43m,\u001b[49m\u001b[43m \u001b[49m\u001b[43mheight\u001b[49m\u001b[38;5;241;43m=\u001b[39;49m\u001b[43mheight\u001b[49m\u001b[43m,\u001b[49m\u001b[43m \u001b[49m\u001b[43mscale\u001b[49m\u001b[38;5;241;43m=\u001b[39;49m\u001b[43mscale\u001b[49m\n\u001b[1;32m    155\u001b[0m \u001b[43m\u001b[49m\u001b[43m)\u001b[49m\n\u001b[1;32m    157\u001b[0m \u001b[38;5;66;03m# Check for export error, later can customize error messages for plotly Python users\u001b[39;00m\n\u001b[1;32m    158\u001b[0m code \u001b[38;5;241m=\u001b[39m response\u001b[38;5;241m.\u001b[39mget(\u001b[38;5;124m\"\u001b[39m\u001b[38;5;124mcode\u001b[39m\u001b[38;5;124m\"\u001b[39m, \u001b[38;5;241m0\u001b[39m)\n",
      "File \u001b[0;32m~/Desktop/Machine Learning and Data Analysis/Modern-Time-Series-Forecasting-with-Python-2E/mtsf-venv/lib/python3.13/site-packages/kaleido/scopes/base.py:293\u001b[0m, in \u001b[0;36mBaseScope._perform_transform\u001b[0;34m(self, data, **kwargs)\u001b[0m\n\u001b[1;32m    284\u001b[0m \u001b[38;5;250m\u001b[39m\u001b[38;5;124;03m\"\"\"\u001b[39;00m\n\u001b[1;32m    285\u001b[0m \u001b[38;5;124;03mTransform input data using the current scope, returning dict response with error code\u001b[39;00m\n\u001b[1;32m    286\u001b[0m \u001b[38;5;124;03mwhether successful or not.\u001b[39;00m\n\u001b[0;32m   (...)\u001b[0m\n\u001b[1;32m    290\u001b[0m \u001b[38;5;124;03m:return: Dict of response from Kaleido executable, whether successful or not\u001b[39;00m\n\u001b[1;32m    291\u001b[0m \u001b[38;5;124;03m\"\"\"\u001b[39;00m\n\u001b[1;32m    292\u001b[0m \u001b[38;5;66;03m# Ensure that kaleido subprocess is running\u001b[39;00m\n\u001b[0;32m--> 293\u001b[0m \u001b[38;5;28;43mself\u001b[39;49m\u001b[38;5;241;43m.\u001b[39;49m\u001b[43m_ensure_kaleido\u001b[49m\u001b[43m(\u001b[49m\u001b[43m)\u001b[49m\n\u001b[1;32m    295\u001b[0m \u001b[38;5;66;03m# Perform export\u001b[39;00m\n\u001b[1;32m    296\u001b[0m export_spec \u001b[38;5;241m=\u001b[39m \u001b[38;5;28mself\u001b[39m\u001b[38;5;241m.\u001b[39m_json_dumps(\u001b[38;5;28mdict\u001b[39m(kwargs, data\u001b[38;5;241m=\u001b[39mdata))\u001b[38;5;241m.\u001b[39mencode(\u001b[38;5;124m'\u001b[39m\u001b[38;5;124mutf-8\u001b[39m\u001b[38;5;124m'\u001b[39m)\n",
      "File \u001b[0;32m~/Desktop/Machine Learning and Data Analysis/Modern-Time-Series-Forecasting-with-Python-2E/mtsf-venv/lib/python3.13/site-packages/kaleido/scopes/base.py:198\u001b[0m, in \u001b[0;36mBaseScope._ensure_kaleido\u001b[0;34m(self)\u001b[0m\n\u001b[1;32m    193\u001b[0m \u001b[38;5;28;01mif\u001b[39;00m \u001b[38;5;129;01mnot\u001b[39;00m startup_response_string:\n\u001b[1;32m    194\u001b[0m     message \u001b[38;5;241m=\u001b[39m (\n\u001b[1;32m    195\u001b[0m         \u001b[38;5;124m\"\u001b[39m\u001b[38;5;124mFailed to start Kaleido subprocess. Error stream:\u001b[39m\u001b[38;5;130;01m\\n\u001b[39;00m\u001b[38;5;130;01m\\n\u001b[39;00m\u001b[38;5;124m\"\u001b[39m \u001b[38;5;241m+\u001b[39m\n\u001b[1;32m    196\u001b[0m         \u001b[38;5;28mself\u001b[39m\u001b[38;5;241m.\u001b[39m_get_decoded_std_error()\n\u001b[1;32m    197\u001b[0m     )\n\u001b[0;32m--> 198\u001b[0m     \u001b[38;5;28;01mraise\u001b[39;00m \u001b[38;5;167;01mValueError\u001b[39;00m(message)\n\u001b[1;32m    199\u001b[0m \u001b[38;5;28;01melse\u001b[39;00m:\n\u001b[1;32m    200\u001b[0m     startup_response \u001b[38;5;241m=\u001b[39m json\u001b[38;5;241m.\u001b[39mloads(startup_response_string)\n",
      "\u001b[0;31mValueError\u001b[0m: Failed to start Kaleido subprocess. Error stream:\n\n/Users/woodzsan/Desktop/Machine Learning and Data Analysis/Modern-Time-Series-Forecasting-with-Python-2E/mtsf-venv/lib/python3.13/site-packages/kaleido/executable/kaleido: line 4: cd: /Users/woodzsan/Desktop/Machine: No such file or directory\n/Users/woodzsan/Desktop/Machine Learning and Data Analysis/Modern-Time-Series-Forecasting-with-Python-2E/mtsf-venv/lib/python3.13/site-packages/kaleido/executable/kaleido: line 5: ./bin/kaleido: No such file or directory\n"
     ]
    }
   ],
   "source": [
    "df = sm.datasets.sunspots.load_pandas().data\n",
    "fig=px.line(df, x=\"YEAR\", y=\"SUNACTIVITY\", title=\"# of Sunspots Years 1749 - 2017\")\n",
    "fig = format_plot(fig, xlabel=\"Year\")\n",
    "fig.write_image(\"imgs/chapter_3/sunspots.png\")\n",
    "fig.show(renderer=\"svg\")"
   ]
  },
  {
   "cell_type": "code",
   "execution_count": 8,
   "id": "4bb47923-a683-4d17-9367-9c6421f6406d",
   "metadata": {},
   "outputs": [],
   "source": [
    "df = pd.DataFrame({\"x\": np.arange(13)})\n",
    "\n",
    "for i in range(1,4):\n",
    "    df[f'Fourier Cosine Term {i}'] = np.cos((2 * np.pi * df.x * i) / 12)\n",
    "    df[f'Fourier Sine Term {i}'] = np.sin((2 * np.pi * df.x * i) / 12)\n",
    "\n",
    "df = pd.melt(df, id_vars=\"x\",var_name=\"Fourier Terms\")"
   ]
  },
  {
   "cell_type": "code",
   "execution_count": null,
   "id": "fd514a13-764b-47d7-bea5-2e6990501b5e",
   "metadata": {},
   "outputs": [],
   "source": [
    "fig = px.line(df[df['Fourier Terms'].str.contains(\"Cosine\")], x=\"x\", y=\"value\", line_dash=\"Fourier Terms\", title=\"Fourier Terms\")\n",
    "fig = format_plot(fig, xlabel=\"x\", ylabel=\"$cos(2\\pi/P \\cdot n \\cdot x)$\")\n",
    "fig.write_image(\"imgs/chapter_3/fourier_terms.png\")\n",
    "fig.show(renderer=\"svg\")"
   ]
  },
  {
   "cell_type": "code",
   "execution_count": null,
   "id": "03bd4c72-ef88-427e-add6-628310574224",
   "metadata": {},
   "outputs": [],
   "source": [
    "fig = px.line(df[df['Fourier Terms'].str.contains(\"Term 1\")], x=\"x\", y=\"value\", line_dash=\"Fourier Terms\", title=\"Sine and Cosine Fourier Terms\")\n",
    "fig = format_plot(fig, xlabel=\"x\", ylabel=\"value\")\n",
    "fig.write_image(\"imgs/chapter_3/sine_cos_terms.png\")\n",
    "fig.show(renderer=\"svg\")"
   ]
  },
  {
   "cell_type": "markdown",
   "id": "e594f05a-e53c-4df8-a026-80b9c1b338a0",
   "metadata": {
    "tags": []
   },
   "source": [
    "# Reading Blocks 0-7"
   ]
  },
  {
   "cell_type": "code",
   "execution_count": 11,
   "id": "d316e543-dc4d-48d3-bdae-93695d869023",
   "metadata": {},
   "outputs": [],
   "source": [
    "from src.utils.data_utils import compact_to_expanded"
   ]
  },
  {
   "cell_type": "code",
   "execution_count": null,
   "id": "8a1e8ec9-5bd6-42eb-8e04-9cd4f2f645f2",
   "metadata": {},
   "outputs": [],
   "source": [
    "try:\n",
    "    block_df = pd.read_parquet(preprocessed/\"london_smart_meters_merged_block_0-7.parquet\")\n",
    "    display(block_df.head())\n",
    "except FileNotFoundError:\n",
    "    display(HTML(\"\"\"\n",
    "    <div class=\"alert alert-block alert-warning\">\n",
    "    <b>Warning!</b> File not found. Please make sure you have run 02 - Preprocessing London Smart Meter Dataset.ipynb in Chapter02\n",
    "    </div>\n",
    "    \"\"\"))"
   ]
  },
  {
   "cell_type": "markdown",
   "id": "d3225c12-b26e-4368-aa67-5e93a650f30b",
   "metadata": {},
   "source": [
    "Let's take all the consumers in one block for our exercise. Keep in mind, you can do the same with more number of blocks as long as it fits in your RAM"
   ]
  },
  {
   "cell_type": "code",
   "execution_count": null,
   "id": "c5b94c73-34d6-44f7-8d96-386ee815f76c",
   "metadata": {},
   "outputs": [],
   "source": [
    "#Converting to expanded form\n",
    "exp_block_df = compact_to_expanded(block_df[block_df.file==\"block_7\"], timeseries_col = 'energy_consumption',\n",
    "static_cols = [\"frequency\", \"series_length\", \"stdorToU\", \"Acorn\", \"Acorn_grouped\", \"file\"],\n",
    "time_varying_cols = ['holidays', 'visibility', 'windBearing', 'temperature', 'dewPoint',\n",
    "       'pressure', 'apparentTemperature', 'windSpeed', 'precipType', 'icon',\n",
    "       'humidity', 'summary'],\n",
    "ts_identifier = \"LCLid\")\n",
    "\n",
    "exp_block_df.head()"
   ]
  },
  {
   "cell_type": "code",
   "execution_count": 14,
   "id": "2fd33867-c611-4b0a-9d06-19c98dbdb450",
   "metadata": {},
   "outputs": [],
   "source": [
    "# Taking a single time series from the block\n",
    "ts_df = exp_block_df[exp_block_df.LCLid==\"MAC000193\"].set_index(\"timestamp\")"
   ]
  },
  {
   "cell_type": "markdown",
   "id": "8f0b4697-c365-4c79-9540-aa7700a8c18b",
   "metadata": {},
   "source": [
    "## Fill in missing values"
   ]
  },
  {
   "cell_type": "markdown",
   "id": "a20b08b8-42a1-40d8-9b8d-2fc441aac180",
   "metadata": {},
   "source": [
    "Let's fill in missing values because some of the decomposition techniques does not support missing values."
   ]
  },
  {
   "cell_type": "code",
   "execution_count": 15,
   "id": "15c5d05a-b645-42be-8ce3-b4d9fed52ddf",
   "metadata": {},
   "outputs": [],
   "source": [
    "from src.imputation.interpolation import SeasonalInterpolation\n",
    "ts = SeasonalInterpolation(seasonal_period=48*7).fit_transform(ts_df.energy_consumption.values.reshape(-1,1)).squeeze()"
   ]
  },
  {
   "cell_type": "markdown",
   "id": "9722c0ee-85ea-433a-8f1b-0cd1bf15fcda",
   "metadata": {},
   "source": [
    "# Seasonal Decomposition"
   ]
  },
  {
   "cell_type": "code",
   "execution_count": 16,
   "id": "f4613f5d-151d-4086-88f3-16d4f266c958",
   "metadata": {},
   "outputs": [],
   "source": [
    "from statsmodels.tsa.seasonal import seasonal_decompose\n",
    "from src.decomposition.seasonal import STL, FourierDecomposition, MultiSeasonalDecomposition"
   ]
  },
  {
   "cell_type": "code",
   "execution_count": 17,
   "id": "de8bdd9c-7918-4572-b71a-3ce080d88e59",
   "metadata": {},
   "outputs": [],
   "source": [
    "from plotly.subplots import make_subplots\n",
    "import plotly.graph_objects as go\n",
    "def decomposition_plot(\n",
    "        ts_index, observed=None, seasonal=None, trend=None, resid=None\n",
    "    ):\n",
    "        \"\"\"Plots the decomposition output\n",
    "        \"\"\"\n",
    "        series = []\n",
    "        if observed is not None:\n",
    "            series += [\"Original\"]\n",
    "        if trend is not None:\n",
    "            series += [\"Trend\"]\n",
    "        if seasonal is not None:\n",
    "            series += [\"Seasonal\"]\n",
    "        if resid is not None:\n",
    "            series += [\"Residual\"]\n",
    "        if len(series) == 0:\n",
    "            raise ValueError(\n",
    "                \"All component flags were off. Need atleast one of the flags turned on to plot.\"\n",
    "            )\n",
    "        fig = make_subplots(\n",
    "            rows=len(series), cols=1, shared_xaxes=True, subplot_titles=series\n",
    "        )\n",
    "        x = ts_index\n",
    "        row = 1\n",
    "        if observed is not None:\n",
    "            fig.append_trace(\n",
    "                go.Scatter(x=x, y=observed, name=\"Original\"), row=row, col=1\n",
    "            )\n",
    "            row += 1\n",
    "        if trend is not None:\n",
    "            fig.append_trace(\n",
    "                go.Scatter(x=x, y=trend, name=\"Trend\"), row=row, col=1\n",
    "            )\n",
    "            row += 1\n",
    "        if seasonal is not None:\n",
    "            fig.append_trace(\n",
    "                go.Scatter(x=x, y=seasonal, name=\"Seasonal\"),\n",
    "                row=row,\n",
    "                col=1,\n",
    "            )\n",
    "            row += 1\n",
    "        if resid is not None:\n",
    "            fig.append_trace(\n",
    "                go.Scatter(x=x, y=resid, name=\"Residual\"), row=row, col=1\n",
    "            )\n",
    "            row += 1\n",
    "\n",
    "        fig.update_layout(\n",
    "            title_text=\"Seasonal Decomposition\",\n",
    "            autosize=False,\n",
    "            width=1200,\n",
    "            height=700,\n",
    "            title={\"x\": 0.5, \"xanchor\": \"center\", \"yanchor\": \"top\"},\n",
    "            titlefont={\"size\": 20},\n",
    "            legend_title=None,\n",
    "            showlegend=False,\n",
    "            legend=dict(\n",
    "                font=dict(size=15),\n",
    "                orientation=\"h\",\n",
    "                yanchor=\"bottom\",\n",
    "                y=0.98,\n",
    "                xanchor=\"right\",\n",
    "                x=1,\n",
    "            ),\n",
    "            yaxis=dict(\n",
    "                # title_text=ylabel,\n",
    "                titlefont=dict(size=15),\n",
    "                tickfont=dict(size=15),\n",
    "            ),\n",
    "            xaxis=dict(\n",
    "                # title_text=xlabel,\n",
    "                titlefont=dict(size=15),\n",
    "                tickfont=dict(size=15),\n",
    "            )\n",
    "        )\n",
    "        return fig"
   ]
  },
  {
   "cell_type": "markdown",
   "id": "bd3fb17a-8340-4914-b831-5c7f7005e84c",
   "metadata": {
    "tags": []
   },
   "source": [
    "## Moving Averages"
   ]
  },
  {
   "cell_type": "code",
   "execution_count": 18,
   "id": "3fc9b0a0-be16-4b03-920a-5ef1293d8265",
   "metadata": {},
   "outputs": [],
   "source": [
    "#Does not support misssing values, so using imputed ts instead\n",
    "res = seasonal_decompose(ts, period=7*48, model=\"additive\", extrapolate_trend=\"freq\", filt=np.repeat(1/(30*48), 30*48))"
   ]
  },
  {
   "cell_type": "code",
   "execution_count": null,
   "id": "08961927-5a8d-4d2d-a1da-1b8d01937e88",
   "metadata": {},
   "outputs": [],
   "source": [
    "fig = decomposition_plot(ts_df.index, res.observed, res.seasonal, res.trend, res.resid)\n",
    "fig.write_image(\"imgs/chapter_3/moving_avg_decomposition.png\")\n",
    "fig.show(renderer=\"svg\")"
   ]
  },
  {
   "cell_type": "code",
   "execution_count": null,
   "id": "cec45796-b9f9-42b7-8dd1-c9452efa7dc1",
   "metadata": {},
   "outputs": [],
   "source": [
    "#Let's zoom in on a few days to better see the seasonality extracted\n",
    "fig.update_xaxes(type=\"date\", range=[\"2012-11-4\", \"2012-12-4\"])\n",
    "fig.write_image(\"imgs/chapter_3/moving_avg_decomposition_zoomed.png\")\n",
    "fig.show(renderer=\"svg\")"
   ]
  },
  {
   "cell_type": "markdown",
   "id": "397f753c-d3a3-41ab-bba5-264d01a37dff",
   "metadata": {
    "tags": []
   },
   "source": [
    "## Seasonality and Trend Decomposition using Loess (STL)"
   ]
  },
  {
   "cell_type": "code",
   "execution_count": 21,
   "id": "fe19d2e2-40eb-456a-bd7f-da310b037f7c",
   "metadata": {},
   "outputs": [],
   "source": [
    "#Supports missing values and expects a series or dataframe with datetime index\n",
    "stl = STL(seasonality_period=7*48, model = \"additive\")\n",
    "res_new = stl.fit(ts_df.energy_consumption)"
   ]
  },
  {
   "cell_type": "code",
   "execution_count": null,
   "id": "5174ab4a-045f-4c9d-9293-1d8f2b71ae58",
   "metadata": {},
   "outputs": [],
   "source": [
    "fig = res_new.plot(interactive=True)\n",
    "fig.update_layout(\n",
    "            legend=dict(\n",
    "                font=dict(size=15),\n",
    "                orientation=\"h\",\n",
    "                yanchor=\"bottom\",\n",
    "                y=0.98,\n",
    "                xanchor=\"right\",\n",
    "                x=1,\n",
    "            ),\n",
    "            yaxis=dict(\n",
    "                # title_text=ylabel,\n",
    "                titlefont=dict(size=15),\n",
    "                tickfont=dict(size=15),\n",
    "            ),\n",
    "            xaxis=dict(\n",
    "                # title_text=xlabel,\n",
    "                titlefont=dict(size=15),\n",
    "                tickfont=dict(size=15),\n",
    "            )\n",
    "        )\n",
    "fig.write_image(\"imgs/chapter_3/stl_decomposition.png\")\n",
    "fig.show(renderer=\"svg\")"
   ]
  },
  {
   "cell_type": "code",
   "execution_count": null,
   "id": "1470fd1f-95e4-4385-947e-520fe5f77244",
   "metadata": {},
   "outputs": [],
   "source": [
    "#Let's zoom in on a few days to better see the seasonality extracted\n",
    "fig.update_xaxes(type=\"date\", range=[\"2012-11-4\", \"2012-12-4\"])\n",
    "fig.write_image(\"imgs/chapter_3/stl_decomposition_zoomed.png\")\n",
    "fig.show(renderer=\"svg\")"
   ]
  },
  {
   "cell_type": "markdown",
   "id": "1f28c5ec-d5f9-4be1-afcb-7cdeec99394d",
   "metadata": {
    "tags": []
   },
   "source": [
    "## Seasonality and Trend Decomposition using Loess and Fourier Terms (Fourier Decomposition)"
   ]
  },
  {
   "cell_type": "code",
   "execution_count": 24,
   "id": "bb01842a-f2a1-49ec-9c3f-733dd3ca1c77",
   "metadata": {},
   "outputs": [],
   "source": [
    "#Doesn't support missing values, and expects a series or datafeame with datetime index\n",
    "stl = FourierDecomposition(seasonality_period=\"hour\", model = \"additive\", n_fourier_terms=5)\n",
    "res_new = stl.fit(pd.Series(ts.squeeze(), index=ts_df.index))"
   ]
  },
  {
   "cell_type": "code",
   "execution_count": null,
   "id": "ce7b9d78-e908-43d3-8ebc-31a46b9917e0",
   "metadata": {},
   "outputs": [],
   "source": [
    "fig = res_new.plot(interactive=True)\n",
    "fig.update_layout(\n",
    "            legend=dict(\n",
    "                font=dict(size=15),\n",
    "                orientation=\"h\",\n",
    "                yanchor=\"bottom\",\n",
    "                y=0.98,\n",
    "                xanchor=\"right\",\n",
    "                x=1,\n",
    "            ),\n",
    "            yaxis=dict(\n",
    "                # title_text=ylabel,\n",
    "                titlefont=dict(size=15),\n",
    "                tickfont=dict(size=15),\n",
    "            ),\n",
    "            xaxis=dict(\n",
    "                # title_text=xlabel,\n",
    "                titlefont=dict(size=15),\n",
    "                tickfont=dict(size=15),\n",
    "            )\n",
    "        )\n",
    "fig.write_image(\"imgs/chapter_3/fourier_decomposition_hourly.png\")\n",
    "fig.show(renderer=\"svg\")"
   ]
  },
  {
   "cell_type": "code",
   "execution_count": null,
   "id": "4a2b3840-4d9a-42f5-9208-13082eb9b381",
   "metadata": {},
   "outputs": [],
   "source": [
    "fig.update_xaxes(type=\"date\", range=[\"2012-11-4\", \"2012-12-4\"])\n",
    "fig.write_image(\"imgs/chapter_3/fourier_decomposition_hourly_zoomed.png\")\n",
    "fig.show(renderer=\"svg\")"
   ]
  },
  {
   "cell_type": "markdown",
   "id": "dacf1c0f-513c-475e-b0e3-ac2d80f09ee6",
   "metadata": {},
   "source": [
    "### Custom Seasonality"
   ]
  },
  {
   "cell_type": "code",
   "execution_count": 27,
   "id": "263efbde-0f1e-4141-b975-437628a59815",
   "metadata": {},
   "outputs": [],
   "source": [
    "#Making a custom seasonality term\n",
    "ts_df[\"dayofweek\"] = ts_df.index.dayofweek\n",
    "ts_df[\"hour\"] = ts_df.index.hour\n",
    "#Creating a sorted unique combination df\n",
    "map_df = ts_df[[\"dayofweek\",\"hour\"]].drop_duplicates().sort_values([\"dayofweek\", \"hour\"])\n",
    "# Assigning an ordinal variable to capture the order\n",
    "map_df[\"map\"] = np.arange(1, len(map_df)+1)\n",
    "# mapping the oprdinal mapping back to the original df and getting the seasonality array\n",
    "seasonality = ts_df.merge(map_df, on=[\"dayofweek\",\"hour\"], how='left', validate=\"many_to_one\")['map']"
   ]
  },
  {
   "cell_type": "code",
   "execution_count": 28,
   "id": "d1351e9a-d414-485a-886c-1df8a183601b",
   "metadata": {},
   "outputs": [],
   "source": [
    "stl = FourierDecomposition(model = \"additive\", n_fourier_terms=50)\n",
    "res_new = stl.fit(pd.Series(ts, index=ts_df.index), seasonality=seasonality)"
   ]
  },
  {
   "cell_type": "code",
   "execution_count": null,
   "id": "ec7f4250-55c9-4153-a329-43b5e84c1894",
   "metadata": {},
   "outputs": [],
   "source": [
    "fig = res_new.plot(interactive=True)\n",
    "fig.update_layout(\n",
    "            legend=dict(\n",
    "                font=dict(size=15),\n",
    "                orientation=\"h\",\n",
    "                yanchor=\"bottom\",\n",
    "                y=0.98,\n",
    "                xanchor=\"right\",\n",
    "                x=1,\n",
    "            ),\n",
    "            yaxis=dict(\n",
    "                # title_text=ylabel,\n",
    "                titlefont=dict(size=15),\n",
    "                tickfont=dict(size=15),\n",
    "            ),\n",
    "            xaxis=dict(\n",
    "                # title_text=xlabel,\n",
    "                titlefont=dict(size=15),\n",
    "                tickfont=dict(size=15),\n",
    "            )\n",
    "        )\n",
    "fig.write_image(\"imgs/chapter_3/fourier_decomposition.png\")\n",
    "fig.show(renderer=\"svg\")"
   ]
  },
  {
   "cell_type": "code",
   "execution_count": null,
   "id": "278faef2-c13b-455a-a770-7dd902b6f99a",
   "metadata": {},
   "outputs": [],
   "source": [
    "fig.update_xaxes(type=\"date\", range=[\"2012-11-4\", \"2012-12-4\"])\n",
    "fig.write_image(\"imgs/chapter_3/fourier_decomposition_zoomed.png\")\n",
    "fig.show(renderer=\"svg\")"
   ]
  },
  {
   "cell_type": "markdown",
   "id": "59e48f58-db4c-4c1a-b64e-b0b4f0bd40e1",
   "metadata": {},
   "source": [
    "## Multiple Seasonality Decomposition using Loess (MSTL)"
   ]
  },
  {
   "cell_type": "markdown",
   "id": "99b3959b-9603-4597-8ed4-5e565cf46e9b",
   "metadata": {},
   "source": [
    "### Using Averages as the seasonal model"
   ]
  },
  {
   "cell_type": "code",
   "execution_count": 31,
   "id": "72df5ac6-e571-4d90-85d3-2bdc7a67c6c0",
   "metadata": {},
   "outputs": [],
   "source": [
    "stl = MultiSeasonalDecomposition(seasonal_model=\"averages\",seasonality_periods=[48*365, 48*7, 48], model = \"additive\")\n",
    "res_new = stl.fit(pd.Series(ts, index=ts_df.index))"
   ]
  },
  {
   "cell_type": "code",
   "execution_count": null,
   "id": "d5d20819-024c-4b57-a131-13510695297e",
   "metadata": {},
   "outputs": [],
   "source": [
    "fig = res_new.plot(interactive=True)\n",
    "fig.update_layout(\n",
    "            legend=dict(\n",
    "                font=dict(size=15),\n",
    "                orientation=\"h\",\n",
    "                yanchor=\"bottom\",\n",
    "                y=0.98,\n",
    "                xanchor=\"right\",\n",
    "                x=1,\n",
    "            ),\n",
    "            yaxis=dict(\n",
    "                # title_text=ylabel,\n",
    "                titlefont=dict(size=15),\n",
    "                tickfont=dict(size=15),\n",
    "            ),\n",
    "            xaxis=dict(\n",
    "                # title_text=xlabel,\n",
    "                titlefont=dict(size=15),\n",
    "                tickfont=dict(size=15),\n",
    "            )\n",
    "        )\n",
    "fig.write_image(\"imgs/chapter_3/mstl_decomposition_averages.png\")\n",
    "fig.show(renderer=\"svg\")"
   ]
  },
  {
   "cell_type": "code",
   "execution_count": null,
   "id": "c5f2cfbf-dd23-46cd-b374-ba09db6b0af5",
   "metadata": {},
   "outputs": [],
   "source": [
    "fig.update_xaxes(type=\"date\", range=[\"2012-11-4\", \"2012-12-4\"])\n",
    "fig.write_image(\"imgs/chapter_3/mstl_decomposition_averages_zoomed.png\")\n",
    "fig.show(renderer=\"svg\")"
   ]
  },
  {
   "cell_type": "markdown",
   "id": "c5724809-2e25-4781-8de2-5611920939e1",
   "metadata": {},
   "source": [
    "### Using Fourier Decomposition as seasonal model"
   ]
  },
  {
   "cell_type": "code",
   "execution_count": 34,
   "id": "68b8ee26-4e65-428c-85a7-fb921f71a092",
   "metadata": {},
   "outputs": [],
   "source": [
    "stl = MultiSeasonalDecomposition(seasonal_model=\"fourier\",seasonality_periods=[\"day_of_year\", \"day_of_week\", \"hour\"], model = \"additive\", n_fourier_terms=10)\n",
    "res_new = stl.fit(pd.Series(ts, index=ts_df.index))"
   ]
  },
  {
   "cell_type": "code",
   "execution_count": null,
   "id": "7c64ebb4-093a-4f28-ac7b-88a2f7cd7596",
   "metadata": {},
   "outputs": [],
   "source": [
    "fig = res_new.plot(interactive=True)\n",
    "fig.update_layout(\n",
    "            legend=dict(\n",
    "                font=dict(size=15),\n",
    "                orientation=\"h\",\n",
    "                yanchor=\"bottom\",\n",
    "                y=0.98,\n",
    "                xanchor=\"right\",\n",
    "                x=1,\n",
    "            ),\n",
    "            yaxis=dict(\n",
    "                # title_text=ylabel,\n",
    "                titlefont=dict(size=15),\n",
    "                tickfont=dict(size=15),\n",
    "            ),\n",
    "            xaxis=dict(\n",
    "                # title_text=xlabel,\n",
    "                titlefont=dict(size=15),\n",
    "                tickfont=dict(size=15),\n",
    "            )\n",
    "        )\n",
    "fig.write_image(\"imgs/chapter_3/mstl_decomposition_fourier.png\")\n",
    "fig.show(renderer=\"svg\")"
   ]
  },
  {
   "cell_type": "code",
   "execution_count": null,
   "id": "a8092b74-0a73-4950-a3a1-564ddb090034",
   "metadata": {},
   "outputs": [],
   "source": [
    "fig.update_xaxes(type=\"date\", range=[\"2012-11-4\", \"2012-12-4\"])\n",
    "fig.write_image(\"imgs/chapter_3/mstl_decomposition_fourier_zoomed.png\")\n",
    "fig.show(renderer=\"svg\")"
   ]
  },
  {
   "cell_type": "markdown",
   "id": "2069d105",
   "metadata": {},
   "source": [
    "# MSTL decomposition in STATSMODELS\n",
    "\n",
    "We will break out time series up in to daily and weekly seasonal components."
   ]
  },
  {
   "cell_type": "code",
   "execution_count": null,
   "id": "10c4e1bc",
   "metadata": {},
   "outputs": [],
   "source": [
    "exp_block_df.head()"
   ]
  },
  {
   "cell_type": "code",
   "execution_count": null,
   "id": "bf52c0b6",
   "metadata": {},
   "outputs": [],
   "source": [
    "ts_df_mstl = exp_block_df[exp_block_df.LCLid==\"MAC000050\"][['timestamp','energy_consumption']].set_index('timestamp')\n",
    "ts_df_mstl.head()"
   ]
  },
  {
   "cell_type": "code",
   "execution_count": 113,
   "id": "b4de249e",
   "metadata": {},
   "outputs": [],
   "source": [
    "stl_kwargs = {\"seasonal_deg\": 0, }\n",
    "mstl = MSTL(ts_df_mstl['energy_consumption'], \n",
    "            periods=[48, 48*7], \n",
    "            #windows=[101, 101],  # Setting this large along with `seasonal_deg=0` will force the seasonality to be periodic.\n",
    "            #stl_kwargs = stl_kwargs,\n",
    "            )\n",
    "res = mstl.fit()"
   ]
  },
  {
   "cell_type": "code",
   "execution_count": null,
   "id": "ef6a5525",
   "metadata": {},
   "outputs": [],
   "source": [
    "res.trend.head()"
   ]
  },
  {
   "cell_type": "code",
   "execution_count": null,
   "id": "b42db20a",
   "metadata": {},
   "outputs": [],
   "source": [
    "res.seasonal.head()"
   ]
  },
  {
   "cell_type": "code",
   "execution_count": null,
   "id": "21570ece",
   "metadata": {},
   "outputs": [],
   "source": [
    "res.resid.head()"
   ]
  },
  {
   "cell_type": "code",
   "execution_count": null,
   "id": "fcc203e4",
   "metadata": {},
   "outputs": [],
   "source": [
    "sns.set_style(\"darkgrid\")\n",
    "plt.rc(\"figure\", figsize=(16, 12))\n",
    "plt.rc(\"font\", size=13)\n",
    "\n",
    "# Creating a plot\n",
    "fig = res.plot()\n",
    "\n",
    "for ax in fig.axes:\n",
    "    ax.set_xlim(pd.Timestamp('2012-01-01'), pd.Timestamp('2012-02-01'))\n",
    "\n",
    "plt.tight_layout()  # Adjust layout to make sure everything fits without overlapping\n",
    "plt.show()"
   ]
  },
  {
   "cell_type": "code",
   "execution_count": null,
   "id": "4d51707d",
   "metadata": {},
   "outputs": [],
   "source": []
  },
  {
   "cell_type": "code",
   "execution_count": null,
   "id": "4ff43e5b",
   "metadata": {},
   "outputs": [],
   "source": []
  },
  {
   "cell_type": "code",
   "execution_count": null,
   "id": "66917cba",
   "metadata": {},
   "outputs": [],
   "source": []
  }
 ],
 "metadata": {
  "kernelspec": {
   "display_name": "mtsf-venv",
   "language": "python",
   "name": "python3"
  },
  "language_info": {
   "codemirror_mode": {
    "name": "ipython",
    "version": 3
   },
   "file_extension": ".py",
   "mimetype": "text/x-python",
   "name": "python",
   "nbconvert_exporter": "python",
   "pygments_lexer": "ipython3",
   "version": "3.13.1"
  },
  "varInspector": {
   "cols": {
    "lenName": 16,
    "lenType": 16,
    "lenVar": 40
   },
   "kernels_config": {
    "python": {
     "delete_cmd_postfix": "",
     "delete_cmd_prefix": "del ",
     "library": "var_list.py",
     "varRefreshCmd": "print(var_dic_list())"
    },
    "r": {
     "delete_cmd_postfix": ") ",
     "delete_cmd_prefix": "rm(",
     "library": "var_list.r",
     "varRefreshCmd": "cat(var_dic_list()) "
    }
   },
   "types_to_exclude": [
    "module",
    "function",
    "builtin_function_or_method",
    "instance",
    "_Feature"
   ],
   "window_display": false
  }
 },
 "nbformat": 4,
 "nbformat_minor": 5
}
